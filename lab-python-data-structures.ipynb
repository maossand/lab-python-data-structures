{
 "cells": [
  {
   "cell_type": "markdown",
   "metadata": {
    "tags": []
   },
   "source": [
    "# Lab | Data Structures "
   ]
  },
  {
   "cell_type": "markdown",
   "metadata": {},
   "source": [
    "## Exercise: Managing Customer Orders\n",
    "\n",
    "As part of a business venture, you are starting an online store that sells various products. To ensure smooth operations, you need to develop a program that manages customer orders and inventory.\n",
    "\n",
    "Follow the steps below to complete the exercise:\n",
    "\n",
    "1. Define a list called `products` that contains the following items: \"t-shirt\", \"mug\", \"hat\", \"book\", \"keychain\".\n",
    "\n",
    "2. Create an empty dictionary called `inventory`.\n",
    "\n",
    "3. Ask the user to input the quantity of each product available in the inventory. Use the product names from the `products` list as keys in the `inventory` dictionary and assign the respective quantities as values.\n",
    "\n",
    "4. Create an empty set called `customer_orders`.\n",
    "\n",
    "5. Ask the user to input the name of three products that a customer wants to order (from those in the products list, meaning three products out of \"t-shirt\", \"mug\", \"hat\", \"book\" or \"keychain\". Add each product name to the `customer_orders` set.\n",
    "\n",
    "6. Print the products in the `customer_orders` set.\n",
    "\n",
    "7. Calculate the following order statistics:\n",
    "   - Total Products Ordered: The total number of products in the `customer_orders` set.\n",
    "   - Percentage of Products Ordered: The percentage of products ordered compared to the total available products.\n",
    "   \n",
    "   Store these statistics in a tuple called `order_status`.\n",
    "\n",
    "8. Print the order statistics using the following format:\n",
    "   ```\n",
    "   Order Statistics:\n",
    "   Total Products Ordered: <total_products_ordered>\n",
    "   Percentage of Products Ordered: <percentage_ordered>% \n",
    "   ```\n",
    "\n",
    "9. Update the inventory by subtracting 1 from the quantity of each product. Modify the `inventory` dictionary accordingly.\n",
    "\n",
    "10. Print the updated inventory, displaying the quantity of each product on separate lines.\n",
    "\n",
    "Solve the exercise by implementing the steps using the Python concepts of lists, dictionaries, sets, and basic input/output operations. "
   ]
  },
  {
   "cell_type": "code",
   "execution_count": 1,
   "metadata": {},
   "outputs": [],
   "source": [
    "#1. Define a list called `products` that contains the following items: \"t-shirt\", \"mug\", \"hat\", \"book\", \"keychain\".\n",
    "products = [\"t-shirt\", \"mug\", \"hat\", \"book\", \"keychain\"]"
   ]
  },
  {
   "cell_type": "code",
   "execution_count": 29,
   "metadata": {},
   "outputs": [],
   "source": [
    "#2. Create an empty dictionary called `inventory`.\n",
    "inventory = {}"
   ]
  },
  {
   "cell_type": "code",
   "execution_count": 30,
   "metadata": {},
   "outputs": [
    {
     "name": "stdout",
     "output_type": "stream",
     "text": [
      "{'t-shirt': 5, 'mug': 4, 'hat': 3, 'book': 4, 'keychain': 5}\n"
     ]
    }
   ],
   "source": [
    "#3 3. Ask the user to input the quantity of each product available in the inventory. Use the product names from the `products` list as keys \n",
    "#in the `inventory` dictionary and assign the respective quantities as values.\n",
    "\n",
    "for i in products:\n",
    "    x = int(input(f\"Please enter the desired number of product {i}: \"))\n",
    "    inventory[i] = x\n",
    "print(inventory)"
   ]
  },
  {
   "cell_type": "code",
   "execution_count": 7,
   "metadata": {},
   "outputs": [],
   "source": [
    "#4. Create an empty set called `customer_orders`.\n",
    "customer_orders = set()"
   ]
  },
  {
   "cell_type": "code",
   "execution_count": 9,
   "metadata": {},
   "outputs": [
    {
     "name": "stdout",
     "output_type": "stream",
     "text": [
      "{'mug', 'hat', 'book'}\n"
     ]
    }
   ],
   "source": [
    "#5. Ask the user to input the name of three products that a customer wants to order \n",
    "# (from those in the products list, meaning three products out of \"t-shirt\", \"mug\", \"hat\", \n",
    "#  \"book\" or \"keychain\". Add each product name to the `customer_orders` set.\n",
    "\n",
    "#6. Print the products in the `customer_orders` set.\n",
    "\n",
    "\n",
    "for i in range(3):\n",
    "    order = input('Which three products would you like to order? ()\"t-shirt\", \"mug\", \"hat\", \"book\", \"keychain\")')\n",
    "    customer_orders.add(order) #for sets we use add, for lists append\n",
    "print(customer_orders)"
   ]
  },
  {
   "cell_type": "code",
   "execution_count": 14,
   "metadata": {},
   "outputs": [
    {
     "name": "stdout",
     "output_type": "stream",
     "text": [
      "The customer ordered 3 products\n",
      "0.125\n"
     ]
    }
   ],
   "source": [
    "# 7. Calculate the following order statistics:\n",
    "#    - Total Products Ordered: The total number of products in the `customer_orders` set.\n",
    "#    - Percentage of Products Ordered: The percentage of products ordered compared to the total available products.\n",
    "#    Store these statistics in a tuple called `order_status`.\n",
    "total_products_ordered = len(customer_orders)\n",
    "print(f\"The customer ordered {total_products_ordered} products\")\n",
    "\n",
    "percentage_products_ordered = len(customer_orders)/(sum(inventory.values()))\n",
    "print(percentage_products_ordered)\n",
    "\n",
    "order_status = (total_products_ordered, percentage_products_ordered)\n",
    "\n"
   ]
  },
  {
   "cell_type": "code",
   "execution_count": 31,
   "metadata": {},
   "outputs": [
    {
     "name": "stdout",
     "output_type": "stream",
     "text": [
      "Order Statistics:\n",
      "Total Products Ordered: 3\n",
      "Percentage of Products Ordered: 0.125\n",
      "{'t-shirt': 5, 'mug': 4, 'hat': 3, 'book': 4, 'keychain': 5}\n"
     ]
    }
   ],
   "source": [
    "# 8. Print the order statistics using the following format:\n",
    "#    ```\n",
    "#    Order Statistics:\n",
    "#    Total Products Ordered: <total_products_ordered>\n",
    "#    Percentage of Products Ordered: <percentage_ordered>% \n",
    "#    ```\n",
    "print(f\"Order Statistics:\\nTotal Products Ordered: {total_products_ordered}\\nPercentage of Products Ordered: {percentage_products_ordered}\")\n",
    "\n",
    "print(inventory)"
   ]
  },
  {
   "cell_type": "code",
   "execution_count": 32,
   "metadata": {},
   "outputs": [
    {
     "name": "stdout",
     "output_type": "stream",
     "text": [
      "{'t-shirt': 4, 'mug': 3, 'hat': 2, 'book': 3, 'keychain': 4}\n"
     ]
    }
   ],
   "source": [
    "# 9. Update the inventory by subtracting 1 from the quantity of each product. \n",
    "#Modify the `inventory` dictionary accordingly.\n",
    "\n",
    "updated_inventory = {key: value - 1 for key, value in inventory.items()}\n",
    "print(updated_inventory)\n"
   ]
  },
  {
   "cell_type": "code",
   "execution_count": 40,
   "metadata": {},
   "outputs": [
    {
     "name": "stdout",
     "output_type": "stream",
     "text": [
      "t-shirt: 5\n",
      "mug: 4\n",
      "hat: 3\n",
      "book: 4\n",
      "keychain: 5\n"
     ]
    }
   ],
   "source": [
    "# 10. Print the updated inventory, displaying the quantity of each product on separate lines.\n",
    "print_values = {print(f\"{key}: {value}\") for key, value in inventory.items()}"
   ]
  }
 ],
 "metadata": {
  "kernelspec": {
   "display_name": "Python 3 (ipykernel)",
   "language": "python",
   "name": "python3"
  },
  "language_info": {
   "codemirror_mode": {
    "name": "ipython",
    "version": 3
   },
   "file_extension": ".py",
   "mimetype": "text/x-python",
   "name": "python",
   "nbconvert_exporter": "python",
   "pygments_lexer": "ipython3",
   "version": "3.9.6"
  }
 },
 "nbformat": 4,
 "nbformat_minor": 4
}
